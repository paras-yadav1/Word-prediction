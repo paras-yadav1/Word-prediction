{
  "nbformat": 4,
  "nbformat_minor": 0,
  "metadata": {
    "colab": {
      "name": "Shakespeare.ipynb",
      "provenance": [],
      "collapsed_sections": []
    },
    "kernelspec": {
      "name": "python3",
      "display_name": "Python 3"
    },
    "accelerator": "GPU"
  },
  "cells": [
    {
      "cell_type": "code",
      "metadata": {
        "id": "BOwsuGQQY9OL",
        "colab_type": "code",
        "outputId": "e2884955-b610-4990-dc4c-d3ef8027895e",
        "colab": {
          "base_uri": "https://localhost:8080/",
          "height": 63
        }
      },
      "source": [
        "from tensorflow.keras.preprocessing.sequence import pad_sequences\n",
        "from tensorflow.keras.layers import Embedding, LSTM, Dense, Dropout, Bidirectional\n",
        "from tensorflow.keras.preprocessing.text import Tokenizer\n",
        "from tensorflow.keras.models import Sequential\n",
        "from tensorflow.keras.optimizers import Adam\n",
        "from tensorflow.keras import regularizers\n",
        "import tensorflow.keras.utils as ku \n",
        "import numpy as np "
      ],
      "execution_count": 1,
      "outputs": [
        {
          "output_type": "display_data",
          "data": {
            "text/html": [
              "<p style=\"color: red;\">\n",
              "The default version of TensorFlow in Colab will soon switch to TensorFlow 2.x.<br>\n",
              "We recommend you <a href=\"https://www.tensorflow.org/guide/migrate\" target=\"_blank\">upgrade</a> now \n",
              "or ensure your notebook will continue to use TensorFlow 1.x via the <code>%tensorflow_version 1.x</code> magic:\n",
              "<a href=\"https://colab.research.google.com/notebooks/tensorflow_version.ipynb\" target=\"_blank\">more info</a>.</p>\n"
            ],
            "text/plain": [
              "<IPython.core.display.HTML object>"
            ]
          },
          "metadata": {
            "tags": []
          }
        }
      ]
    },
    {
      "cell_type": "code",
      "metadata": {
        "colab_type": "code",
        "id": "PRnDnCW-Z7qv",
        "outputId": "6bd27f7b-ed6a-47bd-9b66-e3800b4c2202",
        "colab": {
          "base_uri": "https://localhost:8080/",
          "height": 204
        }
      },
      "source": [
        "tokenizer = Tokenizer()\n",
        "data = open('sonnets.txt').read()\n",
        "\n",
        "corpus = data.lower().split(\"\\n\")\n",
        "\n",
        "\n",
        "tokenizer.fit_on_texts(corpus)\n",
        "total_words = len(tokenizer.word_index) + 1\n",
        "\n",
        "# create input sequences using list of tokens\n",
        "input_sequences = []\n",
        "for line in corpus:\n",
        "\ttoken_list = tokenizer.texts_to_sequences([line])[0]\n",
        "\tfor i in range(1, len(token_list)):\n",
        "\t\tn_gram_sequence = token_list[:i+1]\n",
        "\t\tinput_sequences.append(n_gram_sequence)\n",
        "\n",
        "\n",
        "# pad sequences \n",
        "max_sequence_len = max([len(x) for x in input_sequences])\n",
        "input_sequences = np.array(pad_sequences(input_sequences, maxlen=max_sequence_len, padding='pre'))\n",
        "\n",
        "# create predictors and label\n",
        "predictors, label = input_sequences[:,:-1],input_sequences[:,-1]\n",
        "\n",
        "label = ku.to_categorical(label, num_classes=total_words)"
      ],
      "execution_count": 2,
      "outputs": [
        {
          "output_type": "stream",
          "text": [
            "--2020-03-11 16:32:00--  https://storage.googleapis.com/laurencemoroney-blog.appspot.com/sonnets.txt\n",
            "Resolving storage.googleapis.com (storage.googleapis.com)... 209.85.200.128, 2607:f8b0:4001:c05::80\n",
            "Connecting to storage.googleapis.com (storage.googleapis.com)|209.85.200.128|:443... connected.\n",
            "HTTP request sent, awaiting response... 200 OK\n",
            "Length: 93578 (91K) [text/plain]\n",
            "Saving to: ‘/tmp/sonnets.txt’\n",
            "\n",
            "\r/tmp/sonnets.txt      0%[                    ]       0  --.-KB/s               \r/tmp/sonnets.txt    100%[===================>]  91.38K  --.-KB/s    in 0.001s  \n",
            "\n",
            "2020-03-11 16:32:00 (120 MB/s) - ‘/tmp/sonnets.txt’ saved [93578/93578]\n",
            "\n"
          ],
          "name": "stdout"
        }
      ]
    },
    {
      "cell_type": "code",
      "metadata": {
        "id": "w9vH8Y59ajYL",
        "colab_type": "code",
        "outputId": "5b0224d6-1326-44ce-e46a-afe208ad8062",
        "colab": {
          "base_uri": "https://localhost:8080/",
          "height": 649
        }
      },
      "source": [
        "model = Sequential()\n",
        "model.add(Embedding(total_words, 100, input_length=max_sequence_len-1))\n",
        "model.add(Bidirectional(LSTM(150, return_sequences = True)))\n",
        "model.add(Dropout(0.2))\n",
        "model.add(LSTM(100))\n",
        "model.add(Dense(total_words/2, activation='relu', kernel_regularizer=regularizers.l2(0.01)))\n",
        "model.add(Dense(total_words, activation='softmax'))\n",
        "model.compile(loss='categorical_crossentropy', optimizer='adam', metrics=['accuracy'])\n",
        "print(model.summary())\n"
      ],
      "execution_count": 3,
      "outputs": [
        {
          "output_type": "stream",
          "text": [
            "WARNING:tensorflow:From /usr/local/lib/python3.6/dist-packages/tensorflow_core/python/keras/initializers.py:119: calling RandomUniform.__init__ (from tensorflow.python.ops.init_ops) with dtype is deprecated and will be removed in a future version.\n",
            "Instructions for updating:\n",
            "Call initializer instance with the dtype argument instead of passing it to the constructor\n",
            "WARNING:tensorflow:From /usr/local/lib/python3.6/dist-packages/tensorflow_core/python/ops/resource_variable_ops.py:1630: calling BaseResourceVariable.__init__ (from tensorflow.python.ops.resource_variable_ops) with constraint is deprecated and will be removed in a future version.\n",
            "Instructions for updating:\n",
            "If using Keras pass *_constraint arguments to layers.\n",
            "WARNING:tensorflow:From /usr/local/lib/python3.6/dist-packages/tensorflow_core/python/ops/init_ops.py:97: calling GlorotUniform.__init__ (from tensorflow.python.ops.init_ops) with dtype is deprecated and will be removed in a future version.\n",
            "Instructions for updating:\n",
            "Call initializer instance with the dtype argument instead of passing it to the constructor\n",
            "WARNING:tensorflow:From /usr/local/lib/python3.6/dist-packages/tensorflow_core/python/ops/init_ops.py:97: calling Orthogonal.__init__ (from tensorflow.python.ops.init_ops) with dtype is deprecated and will be removed in a future version.\n",
            "Instructions for updating:\n",
            "Call initializer instance with the dtype argument instead of passing it to the constructor\n",
            "WARNING:tensorflow:From /usr/local/lib/python3.6/dist-packages/tensorflow_core/python/ops/init_ops.py:97: calling Zeros.__init__ (from tensorflow.python.ops.init_ops) with dtype is deprecated and will be removed in a future version.\n",
            "Instructions for updating:\n",
            "Call initializer instance with the dtype argument instead of passing it to the constructor\n",
            "Model: \"sequential\"\n",
            "_________________________________________________________________\n",
            "Layer (type)                 Output Shape              Param #   \n",
            "=================================================================\n",
            "embedding (Embedding)        (None, 10, 100)           321100    \n",
            "_________________________________________________________________\n",
            "bidirectional (Bidirectional (None, 10, 300)           301200    \n",
            "_________________________________________________________________\n",
            "dropout (Dropout)            (None, 10, 300)           0         \n",
            "_________________________________________________________________\n",
            "lstm_1 (LSTM)                (None, 100)               160400    \n",
            "_________________________________________________________________\n",
            "dense (Dense)                (None, 1605)              162105    \n",
            "_________________________________________________________________\n",
            "dense_1 (Dense)              (None, 3211)              5156866   \n",
            "=================================================================\n",
            "Total params: 6,101,671\n",
            "Trainable params: 6,101,671\n",
            "Non-trainable params: 0\n",
            "_________________________________________________________________\n",
            "None\n"
          ],
          "name": "stdout"
        }
      ]
    },
    {
      "cell_type": "code",
      "metadata": {
        "id": "AIg2f1HBxqof",
        "colab_type": "code",
        "outputId": "7b121e96-baa7-4f3a-fda6-d0732978b698",
        "colab": {
          "base_uri": "https://localhost:8080/",
          "height": 1000
        }
      },
      "source": [
        " history = model.fit(predictors, label, epochs=100, verbose=1)"
      ],
      "execution_count": 4,
      "outputs": [
        {
          "output_type": "stream",
          "text": [
            "WARNING:tensorflow:From /usr/local/lib/python3.6/dist-packages/tensorflow_core/python/ops/math_grad.py:1424: where (from tensorflow.python.ops.array_ops) is deprecated and will be removed in a future version.\n",
            "Instructions for updating:\n",
            "Use tf.where in 2.0, which has the same broadcast rule as np.where\n",
            "Train on 15462 samples\n",
            "Epoch 1/100\n",
            "15462/15462 [==============================] - 29s 2ms/sample - loss: 6.9037 - acc: 0.0218\n",
            "Epoch 2/100\n",
            "15462/15462 [==============================] - 26s 2ms/sample - loss: 6.4980 - acc: 0.0220\n",
            "Epoch 3/100\n",
            "15462/15462 [==============================] - 26s 2ms/sample - loss: 6.3674 - acc: 0.0257\n",
            "Epoch 4/100\n",
            "15462/15462 [==============================] - 26s 2ms/sample - loss: 6.2550 - acc: 0.0293\n",
            "Epoch 5/100\n",
            "15462/15462 [==============================] - 26s 2ms/sample - loss: 6.1709 - acc: 0.0364\n",
            "Epoch 6/100\n",
            "15462/15462 [==============================] - 26s 2ms/sample - loss: 6.0946 - acc: 0.0376\n",
            "Epoch 7/100\n",
            "15462/15462 [==============================] - 26s 2ms/sample - loss: 6.0192 - acc: 0.0395\n",
            "Epoch 8/100\n",
            "15462/15462 [==============================] - 26s 2ms/sample - loss: 5.9290 - acc: 0.0453\n",
            "Epoch 9/100\n",
            "15462/15462 [==============================] - 26s 2ms/sample - loss: 5.8297 - acc: 0.0522\n",
            "Epoch 10/100\n",
            "15462/15462 [==============================] - 26s 2ms/sample - loss: 5.7130 - acc: 0.0582\n",
            "Epoch 11/100\n",
            "15462/15462 [==============================] - 26s 2ms/sample - loss: 5.5944 - acc: 0.0636\n",
            "Epoch 12/100\n",
            "15462/15462 [==============================] - 26s 2ms/sample - loss: 5.4851 - acc: 0.0697\n",
            "Epoch 13/100\n",
            "15462/15462 [==============================] - 26s 2ms/sample - loss: 5.3727 - acc: 0.0788\n",
            "Epoch 14/100\n",
            "15462/15462 [==============================] - 26s 2ms/sample - loss: 5.2569 - acc: 0.0862\n",
            "Epoch 15/100\n",
            "15462/15462 [==============================] - 26s 2ms/sample - loss: 5.1474 - acc: 0.0928\n",
            "Epoch 16/100\n",
            "15462/15462 [==============================] - 26s 2ms/sample - loss: 5.0406 - acc: 0.1011\n",
            "Epoch 17/100\n",
            "15462/15462 [==============================] - 26s 2ms/sample - loss: 4.9349 - acc: 0.1068\n",
            "Epoch 18/100\n",
            "15462/15462 [==============================] - 26s 2ms/sample - loss: 4.8238 - acc: 0.1180\n",
            "Epoch 19/100\n",
            "15462/15462 [==============================] - 26s 2ms/sample - loss: 4.7242 - acc: 0.1260\n",
            "Epoch 20/100\n",
            "15462/15462 [==============================] - 26s 2ms/sample - loss: 4.6132 - acc: 0.1345\n",
            "Epoch 21/100\n",
            "15462/15462 [==============================] - 26s 2ms/sample - loss: 4.5025 - acc: 0.1470\n",
            "Epoch 22/100\n",
            "15462/15462 [==============================] - 26s 2ms/sample - loss: 4.3994 - acc: 0.1588\n",
            "Epoch 23/100\n",
            "15462/15462 [==============================] - 26s 2ms/sample - loss: 4.2983 - acc: 0.1694\n",
            "Epoch 24/100\n",
            "15462/15462 [==============================] - 26s 2ms/sample - loss: 4.1914 - acc: 0.1808\n",
            "Epoch 25/100\n",
            "15462/15462 [==============================] - 26s 2ms/sample - loss: 4.0945 - acc: 0.1958\n",
            "Epoch 26/100\n",
            "15462/15462 [==============================] - 26s 2ms/sample - loss: 3.9941 - acc: 0.2149\n",
            "Epoch 27/100\n",
            "15462/15462 [==============================] - 26s 2ms/sample - loss: 3.8966 - acc: 0.2286\n",
            "Epoch 28/100\n",
            "15462/15462 [==============================] - 26s 2ms/sample - loss: 3.8013 - acc: 0.2438\n",
            "Epoch 29/100\n",
            "15462/15462 [==============================] - 26s 2ms/sample - loss: 3.7050 - acc: 0.2634\n",
            "Epoch 30/100\n",
            "15462/15462 [==============================] - 26s 2ms/sample - loss: 3.6154 - acc: 0.2779\n",
            "Epoch 31/100\n",
            "15462/15462 [==============================] - 26s 2ms/sample - loss: 3.5282 - acc: 0.3012\n",
            "Epoch 32/100\n",
            "15462/15462 [==============================] - 26s 2ms/sample - loss: 3.4370 - acc: 0.3245\n",
            "Epoch 33/100\n",
            "15462/15462 [==============================] - 26s 2ms/sample - loss: 3.3491 - acc: 0.3386\n",
            "Epoch 34/100\n",
            "15462/15462 [==============================] - 26s 2ms/sample - loss: 3.2680 - acc: 0.3538\n",
            "Epoch 35/100\n",
            "15462/15462 [==============================] - 26s 2ms/sample - loss: 3.1857 - acc: 0.3719\n",
            "Epoch 36/100\n",
            "15462/15462 [==============================] - 26s 2ms/sample - loss: 3.1110 - acc: 0.3903\n",
            "Epoch 37/100\n",
            "15462/15462 [==============================] - 26s 2ms/sample - loss: 3.0367 - acc: 0.4073\n",
            "Epoch 38/100\n",
            "15462/15462 [==============================] - 26s 2ms/sample - loss: 2.9507 - acc: 0.4259\n",
            "Epoch 39/100\n",
            "15462/15462 [==============================] - 26s 2ms/sample - loss: 2.9031 - acc: 0.4398\n",
            "Epoch 40/100\n",
            "15462/15462 [==============================] - 26s 2ms/sample - loss: 2.8212 - acc: 0.4528\n",
            "Epoch 41/100\n",
            "15462/15462 [==============================] - 26s 2ms/sample - loss: 2.7612 - acc: 0.4660\n",
            "Epoch 42/100\n",
            "15462/15462 [==============================] - 26s 2ms/sample - loss: 2.6950 - acc: 0.4829\n",
            "Epoch 43/100\n",
            "15462/15462 [==============================] - 26s 2ms/sample - loss: 2.6364 - acc: 0.4951\n",
            "Epoch 44/100\n",
            "15462/15462 [==============================] - 26s 2ms/sample - loss: 2.5701 - acc: 0.5092\n",
            "Epoch 45/100\n",
            "15462/15462 [==============================] - 26s 2ms/sample - loss: 2.5161 - acc: 0.5213\n",
            "Epoch 46/100\n",
            "15462/15462 [==============================] - 26s 2ms/sample - loss: 2.4608 - acc: 0.5344\n",
            "Epoch 47/100\n",
            "15462/15462 [==============================] - 26s 2ms/sample - loss: 2.4065 - acc: 0.5472\n",
            "Epoch 48/100\n",
            "15462/15462 [==============================] - 26s 2ms/sample - loss: 2.3513 - acc: 0.5579\n",
            "Epoch 49/100\n",
            "15462/15462 [==============================] - 26s 2ms/sample - loss: 2.3031 - acc: 0.5689\n",
            "Epoch 50/100\n",
            "15462/15462 [==============================] - 26s 2ms/sample - loss: 2.2698 - acc: 0.5779\n",
            "Epoch 51/100\n",
            "15462/15462 [==============================] - 26s 2ms/sample - loss: 2.2135 - acc: 0.5847\n",
            "Epoch 52/100\n",
            "15462/15462 [==============================] - 26s 2ms/sample - loss: 2.1685 - acc: 0.5977\n",
            "Epoch 53/100\n",
            "15462/15462 [==============================] - 26s 2ms/sample - loss: 2.1147 - acc: 0.6112\n",
            "Epoch 54/100\n",
            "15462/15462 [==============================] - 26s 2ms/sample - loss: 2.0815 - acc: 0.6180\n",
            "Epoch 55/100\n",
            "15462/15462 [==============================] - 26s 2ms/sample - loss: 2.0543 - acc: 0.6269\n",
            "Epoch 56/100\n",
            "15462/15462 [==============================] - 26s 2ms/sample - loss: 2.0075 - acc: 0.6277\n",
            "Epoch 57/100\n",
            "15462/15462 [==============================] - 26s 2ms/sample - loss: 1.9663 - acc: 0.6407\n",
            "Epoch 58/100\n",
            "15462/15462 [==============================] - 26s 2ms/sample - loss: 1.9323 - acc: 0.6506\n",
            "Epoch 59/100\n",
            "15462/15462 [==============================] - 26s 2ms/sample - loss: 1.8931 - acc: 0.6596\n",
            "Epoch 60/100\n",
            "15462/15462 [==============================] - 26s 2ms/sample - loss: 1.8671 - acc: 0.6620\n",
            "Epoch 61/100\n",
            "15462/15462 [==============================] - 26s 2ms/sample - loss: 1.8393 - acc: 0.6730\n",
            "Epoch 62/100\n",
            "15462/15462 [==============================] - 26s 2ms/sample - loss: 1.8040 - acc: 0.6799\n",
            "Epoch 63/100\n",
            "15462/15462 [==============================] - 26s 2ms/sample - loss: 1.7641 - acc: 0.6839\n",
            "Epoch 64/100\n",
            "15462/15462 [==============================] - 26s 2ms/sample - loss: 1.7348 - acc: 0.6898\n",
            "Epoch 65/100\n",
            "15462/15462 [==============================] - 26s 2ms/sample - loss: 1.7083 - acc: 0.6977\n",
            "Epoch 66/100\n",
            "15462/15462 [==============================] - 26s 2ms/sample - loss: 1.6863 - acc: 0.6983\n",
            "Epoch 67/100\n",
            "15462/15462 [==============================] - 26s 2ms/sample - loss: 1.6685 - acc: 0.6991\n",
            "Epoch 68/100\n",
            "15462/15462 [==============================] - 26s 2ms/sample - loss: 1.6287 - acc: 0.7117\n",
            "Epoch 69/100\n",
            "15462/15462 [==============================] - 26s 2ms/sample - loss: 1.6110 - acc: 0.7137\n",
            "Epoch 70/100\n",
            "15462/15462 [==============================] - 26s 2ms/sample - loss: 1.5836 - acc: 0.7196\n",
            "Epoch 71/100\n",
            "15462/15462 [==============================] - 31s 2ms/sample - loss: 1.5583 - acc: 0.7266\n",
            "Epoch 72/100\n",
            "15462/15462 [==============================] - 26s 2ms/sample - loss: 1.5433 - acc: 0.7285\n",
            "Epoch 73/100\n",
            "15462/15462 [==============================] - 27s 2ms/sample - loss: 1.5250 - acc: 0.7310\n",
            "Epoch 74/100\n",
            "15462/15462 [==============================] - 27s 2ms/sample - loss: 1.4944 - acc: 0.7362\n",
            "Epoch 75/100\n",
            "15462/15462 [==============================] - 26s 2ms/sample - loss: 1.4737 - acc: 0.7423\n",
            "Epoch 76/100\n",
            "15462/15462 [==============================] - 26s 2ms/sample - loss: 1.4431 - acc: 0.7518\n",
            "Epoch 77/100\n",
            "15462/15462 [==============================] - 27s 2ms/sample - loss: 1.4329 - acc: 0.7519\n",
            "Epoch 78/100\n",
            "15462/15462 [==============================] - 26s 2ms/sample - loss: 1.4181 - acc: 0.7538\n",
            "Epoch 79/100\n",
            "15462/15462 [==============================] - 26s 2ms/sample - loss: 1.4026 - acc: 0.7567\n",
            "Epoch 80/100\n",
            "15462/15462 [==============================] - 27s 2ms/sample - loss: 1.3965 - acc: 0.7548\n",
            "Epoch 81/100\n",
            "15462/15462 [==============================] - 27s 2ms/sample - loss: 1.3626 - acc: 0.7630\n",
            "Epoch 82/100\n",
            "15462/15462 [==============================] - 27s 2ms/sample - loss: 1.3446 - acc: 0.7689\n",
            "Epoch 83/100\n",
            "15462/15462 [==============================] - 27s 2ms/sample - loss: 1.3285 - acc: 0.7686\n",
            "Epoch 84/100\n",
            "15462/15462 [==============================] - 27s 2ms/sample - loss: 1.3194 - acc: 0.7692\n",
            "Epoch 85/100\n",
            "15462/15462 [==============================] - 27s 2ms/sample - loss: 1.3007 - acc: 0.7742\n",
            "Epoch 86/100\n",
            "15462/15462 [==============================] - 26s 2ms/sample - loss: 1.2800 - acc: 0.7804\n",
            "Epoch 87/100\n",
            "15462/15462 [==============================] - 26s 2ms/sample - loss: 1.2674 - acc: 0.7793\n",
            "Epoch 88/100\n",
            "15462/15462 [==============================] - 26s 2ms/sample - loss: 1.2717 - acc: 0.7760\n",
            "Epoch 89/100\n",
            "15462/15462 [==============================] - 26s 2ms/sample - loss: 1.2513 - acc: 0.7849\n",
            "Epoch 90/100\n",
            "15462/15462 [==============================] - 26s 2ms/sample - loss: 1.2335 - acc: 0.7855\n",
            "Epoch 91/100\n",
            "15462/15462 [==============================] - 26s 2ms/sample - loss: 1.2255 - acc: 0.7866\n",
            "Epoch 92/100\n",
            "15462/15462 [==============================] - 26s 2ms/sample - loss: 1.2188 - acc: 0.7868\n",
            "Epoch 93/100\n",
            "15462/15462 [==============================] - 26s 2ms/sample - loss: 1.1914 - acc: 0.7956\n",
            "Epoch 94/100\n",
            "15462/15462 [==============================] - 27s 2ms/sample - loss: 1.1810 - acc: 0.7975\n",
            "Epoch 95/100\n",
            "15462/15462 [==============================] - 26s 2ms/sample - loss: 1.1760 - acc: 0.7971\n",
            "Epoch 96/100\n",
            "15462/15462 [==============================] - 27s 2ms/sample - loss: 1.1624 - acc: 0.7951\n",
            "Epoch 97/100\n",
            "15462/15462 [==============================] - 26s 2ms/sample - loss: 1.1704 - acc: 0.7958\n",
            "Epoch 98/100\n",
            "15462/15462 [==============================] - 26s 2ms/sample - loss: 1.1574 - acc: 0.7954\n",
            "Epoch 99/100\n",
            "15462/15462 [==============================] - 26s 2ms/sample - loss: 1.1462 - acc: 0.7984\n",
            "Epoch 100/100\n",
            "15462/15462 [==============================] - 26s 2ms/sample - loss: 1.1415 - acc: 0.7968\n"
          ],
          "name": "stdout"
        }
      ]
    },
    {
      "cell_type": "code",
      "metadata": {
        "id": "1fXTEO3GJ282",
        "colab_type": "code",
        "colab": {
          "base_uri": "https://localhost:8080/",
          "height": 545
        },
        "outputId": "30074249-8a38-4f05-886a-d93f866810a7"
      },
      "source": [
        "import matplotlib.pyplot as plt\n",
        "acc = history.history['acc']\n",
        "loss = history.history['loss']\n",
        "\n",
        "epochs = range(len(acc))\n",
        "\n",
        "plt.plot(epochs, acc, 'b', label='Training accuracy')\n",
        "plt.title('Training accuracy')\n",
        "\n",
        "plt.figure()\n",
        "\n",
        "plt.plot(epochs, loss, 'b', label='Training Loss')\n",
        "plt.title('Training loss')\n",
        "plt.legend()\n",
        "\n",
        "plt.show()"
      ],
      "execution_count": 5,
      "outputs": [
        {
          "output_type": "display_data",
          "data": {
            "image/png": "[encoded data removed]",
            "text/plain": [
              "<Figure size 432x288 with 1 Axes>"
            ]
          },
          "metadata": {
            "tags": []
          }
        },
        {
          "output_type": "display_data",
          "data": {
            "image/png": "[encoded data removed]",
            "text/plain": [
              "<Figure size 432x288 with 1 Axes>"
            ]
          },
          "metadata": {
            "tags": []
          }
        }
      ]
    },
    {
      "cell_type": "code",
      "metadata": {
        "id": "6Vc6PHgxa6Hm",
        "colab_type": "code",
        "colab": {
          "base_uri": "https://localhost:8080/",
          "height": 54
        },
        "outputId": "de6ff2c5-5d84-4a7a-c27b-e07b82e1c203"
      },
      "source": [
        "seed_text = \"Help me Obi Wan Kenobi, you're my only hope\"\n",
        "next_words = 100\n",
        "  \n",
        "for _ in range(next_words):\n",
        "\ttoken_list = tokenizer.texts_to_sequences([seed_text])[0]\n",
        "\ttoken_list = pad_sequences([token_list], maxlen=max_sequence_len-1, padding='pre')\n",
        "\tpredicted = model.predict_classes(token_list, verbose=0)\n",
        "\toutput_word = \"\"\n",
        "\tfor word, index in tokenizer.word_index.items():\n",
        "\t\tif index == predicted:\n",
        "\t\t\toutput_word = word\n",
        "\t\t\tbreak\n",
        "\tseed_text += \" \" + output_word\n",
        "print(seed_text)"
      ],
      "execution_count": 6,
      "outputs": [
        {
          "output_type": "stream",
          "text": [
            "Help me Obi Wan Kenobi, you're my only hope bail hath ill dear 'will ' did not so true old heart will love write truth did truly write old ' so ' in many glory it forsworn forth good strife last razed wrong ' behind her young did view slain slain one rhyme ' did prove down kind up aside about remain quite gone did it give write write old old old old ' not to thee grace swear were old ' prove write forth men old men prove forth wastes good blind blind blind best ' write to me many old ' did am glory call pretty heart\n"
          ],
          "name": "stdout"
        }
      ]
    }
  ]
}